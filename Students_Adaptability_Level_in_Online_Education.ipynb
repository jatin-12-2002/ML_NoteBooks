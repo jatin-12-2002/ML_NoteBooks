{
  "cells": [
    {
      "cell_type": "code",
      "execution_count": null,
      "metadata": {
        "id": "mBQwW-ERHV8m",
        "outputId": "4e727010-8157-437a-8f8d-cbef9370233b",
        "colab": {
          "base_uri": "https://localhost:8080/"
        }
      },
      "outputs": [
        {
          "output_type": "stream",
          "name": "stdout",
          "text": [
            "\u001b[?25l\r\u001b[K     |████▊                           | 10 kB 21.1 MB/s eta 0:00:01\r\u001b[K     |█████████▌                      | 20 kB 13.6 MB/s eta 0:00:01\r\u001b[K     |██████████████▎                 | 30 kB 9.9 MB/s eta 0:00:01\r\u001b[K     |███████████████████             | 40 kB 8.3 MB/s eta 0:00:01\r\u001b[K     |███████████████████████▉        | 51 kB 4.7 MB/s eta 0:00:01\r\u001b[K     |████████████████████████████▋   | 61 kB 5.5 MB/s eta 0:00:01\r\u001b[K     |████████████████████████████████| 68 kB 3.0 MB/s \n",
            "\u001b[?25h  Building wheel for uuid (setup.py) ... \u001b[?25l\u001b[?25hdone\n"
          ]
        }
      ],
      "source": [
        "# Jovian Commit Essentials\n",
        "# Please retain and execute this cell without modifying the contents for `jovian.commit` to work\n",
        "!pip install jovian --upgrade -q\n",
        "import jovian\n",
        "jovian.set_project('student-adaptability-online-education')\n",
        "jovian.set_colab_id('1b7zJCbmLYgTTWRQUiLKwPODxXZVBKPyK')"
      ]
    },
    {
      "cell_type": "markdown",
      "metadata": {
        "id": "vLF_3rx8HV8v"
      },
      "source": [
        "#                 Students Adaptability Level in Online Education\n",
        "\n",
        "![](https://er.educause.edu/-/media/images/blogs/2020/8/er20_3206_706x394_blog.jpg?hash=6BCDA470A42BF8086319452828355A6BE4BC96CD&la=en)"
      ]
    },
    {
      "cell_type": "markdown",
      "metadata": {
        "id": "zdVLe_MfHV8z"
      },
      "source": [
        "## INTRODUCTION\n",
        "## ABOUT- DATASET:\n",
        "The COVID-19 pandemic led to an unexpected and rapid shift to remote learning for students around the world. In the space of a few weeks, the very nature of learning and instruction was transformed. Learning and instruction moved to remote online modes at speed and scale. The extent to which students have successfully responded and adjusted to these disruptions has been key to how they have coped academically. This being the case, adaptability may be a personal attribute that is highly relevant through times of online remote learning and instruction, such as during COVID-19 and any other future periods of disrupted learning. Adaptability is the capacity to regulate one’s behaviors, thoughts, and feelings in response to novel, variable, uncertain, and unexpected situations and circumstances. Adaptability has been identified as an important capacity for students’ academic and personal development, including their motivation, engagement, achievement, and social-emotional wellbeing. Given adaptability is specifically aimed at successfully navigating change, uncertainty, and novelty, it is also likely a vital personal attribute to support students during periods of novelty, variability, and uncertainty, such as with COVID-19 restrictions and lockdowns, including periods of online learning through these times. To the extent that adaptability is associated with positive educational processes and outcomes during online learning, it may be an important area of focus for educational interventions.\n",
        "## ABOUT- PROJECT:\n",
        "This Exploratory Data Analysis project is a part of \"Data Analysis with Python: Zero to Pandas\" course structured and provided by Jovian. The aim of this research was to expand current knowledge of adaptability by focusing on its role in students’ academic development and online learning during a period of COVID-19 that entailed fully or partially remote online learning. we examined the role of adaptability in predicting students’ online learning self-efficacy and their end of year achievement. We were particularly interested in the extent to which adaptability (a personal resource) played a role in students’ online learning self-efficacy and achievement beyond the effects of any online learning demands, online and parental learning support, and background attributes.The graphical representation and visualisation of data using matplotlib and seaborn library in python helps us to easily understand a lot better about the dataset."
      ]
    },
    {
      "cell_type": "markdown",
      "metadata": {
        "id": "CGuCm9L1HV83"
      },
      "source": [
        "## Downloading the Dataset\n",
        "\n",
        "In this tutorial, we'll analyze the Students Adaptability Level in Online Education dataset. The dataset contains responses to an annual survey conducted by StackOverflow. You can find the raw data & official analysis here: https://www.kaggle.com/datasets/mdmahmudulhasansuzan/students-adaptability-level-in-online-education.\n",
        "\n",
        "There are several options for getting the dataset into Jupyter:\n",
        "\n",
        "* Download the CSV manually and upload it via Jupyter's GUI\n",
        "* Use the urlretrieve function from the urllib.request to download CSV files from a raw URL\n",
        "* Use a helper library, e.g., opendatasets, which contains a collection of curated datasets and provides a helper function for direct download.\n",
        "#### We'll use the opendatasets helper library to download the files."
      ]
    },
    {
      "cell_type": "code",
      "execution_count": null,
      "metadata": {
        "id": "ymJ-Jl2fHV85"
      },
      "outputs": [],
      "source": [
        "!pip install jovian opendatasets --upgrade --quiet"
      ]
    },
    {
      "cell_type": "markdown",
      "metadata": {
        "id": "syl_lRBqHV87"
      },
      "source": [
        "Let's begin by downloading the data, and listing the files within the dataset."
      ]
    },
    {
      "cell_type": "code",
      "execution_count": null,
      "metadata": {
        "id": "kbIrwbp5HV88"
      },
      "outputs": [],
      "source": [
        "# Change this\n",
        "dataset_url = 'https://www.kaggle.com/datasets/mdmahmudulhasansuzan/students-adaptability-level-in-online-education'"
      ]
    },
    {
      "cell_type": "code",
      "execution_count": null,
      "metadata": {
        "id": "gCDaUpVZHV89",
        "outputId": "aeb6112f-eee5-4437-c4bc-ba04eedff655"
      },
      "outputs": [
        {
          "name": "stdout",
          "output_type": "stream",
          "text": [
            "Skipping, found downloaded files in \"./students-adaptability-level-in-online-education\" (use force=True to force download)\n"
          ]
        }
      ],
      "source": [
        "import opendatasets as od    # Kaggle Username-> jatinsareen\n",
        "od.download(dataset_url)     # Kaggle Key-> b715b7ad03927392e7ccb057ae5b6d5b"
      ]
    },
    {
      "cell_type": "markdown",
      "metadata": {
        "id": "7WItgwhHHV9A"
      },
      "source": [
        "The dataset has been downloaded and extracted."
      ]
    },
    {
      "cell_type": "code",
      "execution_count": null,
      "metadata": {
        "id": "L0yqJpzGHV9B"
      },
      "outputs": [],
      "source": [
        "data_dir = './students-adaptability-level-in-online-education'"
      ]
    },
    {
      "cell_type": "code",
      "execution_count": null,
      "metadata": {
        "id": "Hw_8QGnTHV9C",
        "outputId": "b7885860-eef7-4892-88d5-f95754bbe749"
      },
      "outputs": [
        {
          "data": {
            "text/plain": [
              "['students_adaptability_level_online_education.csv']"
            ]
          },
          "execution_count": 22,
          "metadata": {},
          "output_type": "execute_result"
        }
      ],
      "source": [
        "import os\n",
        "os.listdir(data_dir)"
      ]
    },
    {
      "cell_type": "markdown",
      "metadata": {
        "id": "BMYbIImCHV9D"
      },
      "source": [
        "Let us save and upload our work to Jovian before continuing."
      ]
    },
    {
      "cell_type": "code",
      "execution_count": null,
      "metadata": {
        "id": "d7y9j_qrHV9D"
      },
      "outputs": [],
      "source": [
        "project_name = \"student-Adaptability-Online-Education\""
      ]
    },
    {
      "cell_type": "code",
      "execution_count": null,
      "metadata": {
        "id": "F-Bi4UaoHV9E"
      },
      "outputs": [],
      "source": [
        "!pip install jovian --upgrade -q"
      ]
    },
    {
      "cell_type": "code",
      "execution_count": null,
      "metadata": {
        "id": "aN_07sYzHV9F"
      },
      "outputs": [],
      "source": [
        "import jovian"
      ]
    },
    {
      "cell_type": "code",
      "execution_count": null,
      "metadata": {
        "id": "QrPzjkp5HV9F",
        "outputId": "5eadac12-6f1c-4d22-d1bd-013ce34c887e"
      },
      "outputs": [
        {
          "data": {
            "application/javascript": [
              "window.require && require([\"base/js/namespace\"],function(Jupyter){Jupyter.notebook.save_checkpoint()})"
            ],
            "text/plain": [
              "<IPython.core.display.Javascript object>"
            ]
          },
          "metadata": {},
          "output_type": "display_data"
        },
        {
          "name": "stdout",
          "output_type": "stream",
          "text": [
            "[jovian] Updating notebook \"sareenjatin002/student-adaptability-online-education\" on https://jovian.ai\u001b[0m\n",
            "[jovian] Committed successfully! https://jovian.ai/sareenjatin002/student-adaptability-online-education\u001b[0m\n"
          ]
        },
        {
          "data": {
            "text/plain": [
              "'https://jovian.ai/sareenjatin002/student-adaptability-online-education'"
            ]
          },
          "execution_count": 26,
          "metadata": {},
          "output_type": "execute_result"
        }
      ],
      "source": [
        "jovian.commit(project=project_name)"
      ]
    },
    {
      "cell_type": "markdown",
      "metadata": {
        "id": "VRBO8tp3HV9G"
      },
      "source": [
        "## Data Preparation and Cleaning\n",
        "\n",
        "Let's load the CSV files using the Pandas library. We'll use the name \"student_df\" for the data frame to indicate this is unprocessed data that we might clean, filter and modify to prepare a data frame ready for analysis. We'll perform data preparation and cleaning operations on \"student_df\"."
      ]
    },
    {
      "cell_type": "code",
      "execution_count": null,
      "metadata": {
        "id": "3K1VODs7HV9H"
      },
      "outputs": [],
      "source": [
        "import pandas as pd"
      ]
    },
    {
      "cell_type": "code",
      "execution_count": null,
      "metadata": {
        "id": "wEOcLkwZHV9H"
      },
      "outputs": [],
      "source": [
        "#convert the csv file into pandas data frame\n",
        "student_df=pd.read_csv('students-adaptability-level-in-online-education/students_adaptability_level_online_education.csv')"
      ]
    },
    {
      "cell_type": "code",
      "execution_count": null,
      "metadata": {
        "id": "RkTV7ZeWHV9I",
        "outputId": "3b62c479-253a-4741-fd72-fa228b2df1c9"
      },
      "outputs": [
        {
          "data": {
            "text/html": [
              "<div>\n",
              "<style scoped>\n",
              "    .dataframe tbody tr th:only-of-type {\n",
              "        vertical-align: middle;\n",
              "    }\n",
              "\n",
              "    .dataframe tbody tr th {\n",
              "        vertical-align: top;\n",
              "    }\n",
              "\n",
              "    .dataframe thead th {\n",
              "        text-align: right;\n",
              "    }\n",
              "</style>\n",
              "<table border=\"1\" class=\"dataframe\">\n",
              "  <thead>\n",
              "    <tr style=\"text-align: right;\">\n",
              "      <th></th>\n",
              "      <th>Gender</th>\n",
              "      <th>Age</th>\n",
              "      <th>Education Level</th>\n",
              "      <th>Institution Type</th>\n",
              "      <th>IT Student</th>\n",
              "      <th>Location</th>\n",
              "      <th>Load-shedding</th>\n",
              "      <th>Financial Condition</th>\n",
              "      <th>Internet Type</th>\n",
              "      <th>Network Type</th>\n",
              "      <th>Class Duration</th>\n",
              "      <th>Self Lms</th>\n",
              "      <th>Device</th>\n",
              "      <th>Adaptivity Level</th>\n",
              "    </tr>\n",
              "  </thead>\n",
              "  <tbody>\n",
              "    <tr>\n",
              "      <th>0</th>\n",
              "      <td>Boy</td>\n",
              "      <td>21-25</td>\n",
              "      <td>University</td>\n",
              "      <td>Non Government</td>\n",
              "      <td>No</td>\n",
              "      <td>Yes</td>\n",
              "      <td>Low</td>\n",
              "      <td>Mid</td>\n",
              "      <td>Wifi</td>\n",
              "      <td>4G</td>\n",
              "      <td>3-6</td>\n",
              "      <td>No</td>\n",
              "      <td>Tab</td>\n",
              "      <td>Moderate</td>\n",
              "    </tr>\n",
              "    <tr>\n",
              "      <th>1</th>\n",
              "      <td>Girl</td>\n",
              "      <td>21-25</td>\n",
              "      <td>University</td>\n",
              "      <td>Non Government</td>\n",
              "      <td>No</td>\n",
              "      <td>Yes</td>\n",
              "      <td>High</td>\n",
              "      <td>Mid</td>\n",
              "      <td>Mobile Data</td>\n",
              "      <td>4G</td>\n",
              "      <td>1-3</td>\n",
              "      <td>Yes</td>\n",
              "      <td>Mobile</td>\n",
              "      <td>Moderate</td>\n",
              "    </tr>\n",
              "    <tr>\n",
              "      <th>2</th>\n",
              "      <td>Girl</td>\n",
              "      <td>16-20</td>\n",
              "      <td>College</td>\n",
              "      <td>Government</td>\n",
              "      <td>No</td>\n",
              "      <td>Yes</td>\n",
              "      <td>Low</td>\n",
              "      <td>Mid</td>\n",
              "      <td>Wifi</td>\n",
              "      <td>4G</td>\n",
              "      <td>1-3</td>\n",
              "      <td>No</td>\n",
              "      <td>Mobile</td>\n",
              "      <td>Moderate</td>\n",
              "    </tr>\n",
              "    <tr>\n",
              "      <th>3</th>\n",
              "      <td>Girl</td>\n",
              "      <td>11-15</td>\n",
              "      <td>School</td>\n",
              "      <td>Non Government</td>\n",
              "      <td>No</td>\n",
              "      <td>Yes</td>\n",
              "      <td>Low</td>\n",
              "      <td>Mid</td>\n",
              "      <td>Mobile Data</td>\n",
              "      <td>4G</td>\n",
              "      <td>1-3</td>\n",
              "      <td>No</td>\n",
              "      <td>Mobile</td>\n",
              "      <td>Moderate</td>\n",
              "    </tr>\n",
              "    <tr>\n",
              "      <th>4</th>\n",
              "      <td>Girl</td>\n",
              "      <td>16-20</td>\n",
              "      <td>School</td>\n",
              "      <td>Non Government</td>\n",
              "      <td>No</td>\n",
              "      <td>Yes</td>\n",
              "      <td>Low</td>\n",
              "      <td>Poor</td>\n",
              "      <td>Mobile Data</td>\n",
              "      <td>3G</td>\n",
              "      <td>0</td>\n",
              "      <td>No</td>\n",
              "      <td>Mobile</td>\n",
              "      <td>Low</td>\n",
              "    </tr>\n",
              "    <tr>\n",
              "      <th>...</th>\n",
              "      <td>...</td>\n",
              "      <td>...</td>\n",
              "      <td>...</td>\n",
              "      <td>...</td>\n",
              "      <td>...</td>\n",
              "      <td>...</td>\n",
              "      <td>...</td>\n",
              "      <td>...</td>\n",
              "      <td>...</td>\n",
              "      <td>...</td>\n",
              "      <td>...</td>\n",
              "      <td>...</td>\n",
              "      <td>...</td>\n",
              "      <td>...</td>\n",
              "    </tr>\n",
              "    <tr>\n",
              "      <th>1200</th>\n",
              "      <td>Girl</td>\n",
              "      <td>16-20</td>\n",
              "      <td>College</td>\n",
              "      <td>Non Government</td>\n",
              "      <td>No</td>\n",
              "      <td>Yes</td>\n",
              "      <td>Low</td>\n",
              "      <td>Mid</td>\n",
              "      <td>Wifi</td>\n",
              "      <td>4G</td>\n",
              "      <td>1-3</td>\n",
              "      <td>No</td>\n",
              "      <td>Mobile</td>\n",
              "      <td>Low</td>\n",
              "    </tr>\n",
              "    <tr>\n",
              "      <th>1201</th>\n",
              "      <td>Girl</td>\n",
              "      <td>16-20</td>\n",
              "      <td>College</td>\n",
              "      <td>Non Government</td>\n",
              "      <td>No</td>\n",
              "      <td>No</td>\n",
              "      <td>High</td>\n",
              "      <td>Mid</td>\n",
              "      <td>Wifi</td>\n",
              "      <td>4G</td>\n",
              "      <td>3-6</td>\n",
              "      <td>No</td>\n",
              "      <td>Mobile</td>\n",
              "      <td>Moderate</td>\n",
              "    </tr>\n",
              "    <tr>\n",
              "      <th>1202</th>\n",
              "      <td>Boy</td>\n",
              "      <td>11-15</td>\n",
              "      <td>School</td>\n",
              "      <td>Non Government</td>\n",
              "      <td>No</td>\n",
              "      <td>Yes</td>\n",
              "      <td>Low</td>\n",
              "      <td>Mid</td>\n",
              "      <td>Mobile Data</td>\n",
              "      <td>3G</td>\n",
              "      <td>1-3</td>\n",
              "      <td>No</td>\n",
              "      <td>Mobile</td>\n",
              "      <td>Moderate</td>\n",
              "    </tr>\n",
              "    <tr>\n",
              "      <th>1203</th>\n",
              "      <td>Girl</td>\n",
              "      <td>16-20</td>\n",
              "      <td>College</td>\n",
              "      <td>Non Government</td>\n",
              "      <td>No</td>\n",
              "      <td>No</td>\n",
              "      <td>Low</td>\n",
              "      <td>Mid</td>\n",
              "      <td>Wifi</td>\n",
              "      <td>4G</td>\n",
              "      <td>1-3</td>\n",
              "      <td>No</td>\n",
              "      <td>Mobile</td>\n",
              "      <td>Low</td>\n",
              "    </tr>\n",
              "    <tr>\n",
              "      <th>1204</th>\n",
              "      <td>Girl</td>\n",
              "      <td>11-15</td>\n",
              "      <td>School</td>\n",
              "      <td>Non Government</td>\n",
              "      <td>No</td>\n",
              "      <td>Yes</td>\n",
              "      <td>Low</td>\n",
              "      <td>Poor</td>\n",
              "      <td>Mobile Data</td>\n",
              "      <td>3G</td>\n",
              "      <td>1-3</td>\n",
              "      <td>No</td>\n",
              "      <td>Mobile</td>\n",
              "      <td>Moderate</td>\n",
              "    </tr>\n",
              "  </tbody>\n",
              "</table>\n",
              "<p>1205 rows × 14 columns</p>\n",
              "</div>"
            ],
            "text/plain": [
              "     Gender    Age Education Level Institution Type IT Student Location  \\\n",
              "0       Boy  21-25      University   Non Government         No      Yes   \n",
              "1      Girl  21-25      University   Non Government         No      Yes   \n",
              "2      Girl  16-20         College       Government         No      Yes   \n",
              "3      Girl  11-15          School   Non Government         No      Yes   \n",
              "4      Girl  16-20          School   Non Government         No      Yes   \n",
              "...     ...    ...             ...              ...        ...      ...   \n",
              "1200   Girl  16-20         College   Non Government         No      Yes   \n",
              "1201   Girl  16-20         College   Non Government         No       No   \n",
              "1202    Boy  11-15          School   Non Government         No      Yes   \n",
              "1203   Girl  16-20         College   Non Government         No       No   \n",
              "1204   Girl  11-15          School   Non Government         No      Yes   \n",
              "\n",
              "     Load-shedding Financial Condition Internet Type Network Type  \\\n",
              "0              Low                 Mid          Wifi           4G   \n",
              "1             High                 Mid   Mobile Data           4G   \n",
              "2              Low                 Mid          Wifi           4G   \n",
              "3              Low                 Mid   Mobile Data           4G   \n",
              "4              Low                Poor   Mobile Data           3G   \n",
              "...            ...                 ...           ...          ...   \n",
              "1200           Low                 Mid          Wifi           4G   \n",
              "1201          High                 Mid          Wifi           4G   \n",
              "1202           Low                 Mid   Mobile Data           3G   \n",
              "1203           Low                 Mid          Wifi           4G   \n",
              "1204           Low                Poor   Mobile Data           3G   \n",
              "\n",
              "     Class Duration Self Lms  Device Adaptivity Level  \n",
              "0               3-6       No     Tab         Moderate  \n",
              "1               1-3      Yes  Mobile         Moderate  \n",
              "2               1-3       No  Mobile         Moderate  \n",
              "3               1-3       No  Mobile         Moderate  \n",
              "4                 0       No  Mobile              Low  \n",
              "...             ...      ...     ...              ...  \n",
              "1200            1-3       No  Mobile              Low  \n",
              "1201            3-6       No  Mobile         Moderate  \n",
              "1202            1-3       No  Mobile         Moderate  \n",
              "1203            1-3       No  Mobile              Low  \n",
              "1204            1-3       No  Mobile         Moderate  \n",
              "\n",
              "[1205 rows x 14 columns]"
            ]
          },
          "execution_count": 29,
          "metadata": {},
          "output_type": "execute_result"
        }
      ],
      "source": [
        "student_df"
      ]
    },
    {
      "cell_type": "code",
      "execution_count": null,
      "metadata": {
        "id": "wIgccwOIHV9I",
        "outputId": "a2c07602-9733-42ca-de08-81becdfbe2de"
      },
      "outputs": [
        {
          "data": {
            "text/plain": [
              "Index(['Gender', 'Age', 'Education Level', 'Institution Type', 'IT Student',\n",
              "       'Location', 'Load-shedding', 'Financial Condition', 'Internet Type',\n",
              "       'Network Type', 'Class Duration', 'Self Lms', 'Device',\n",
              "       'Adaptivity Level'],\n",
              "      dtype='object')"
            ]
          },
          "execution_count": 30,
          "metadata": {},
          "output_type": "execute_result"
        }
      ],
      "source": [
        "student_df.columns"
      ]
    },
    {
      "cell_type": "code",
      "execution_count": null,
      "metadata": {
        "id": "4FpuVpqVHV9J",
        "outputId": "4c139d81-b5a1-4fbc-8879-daa176376f08"
      },
      "outputs": [
        {
          "data": {
            "text/plain": [
              "(1205, 14)"
            ]
          },
          "execution_count": 31,
          "metadata": {},
          "output_type": "execute_result"
        }
      ],
      "source": [
        "student_df.shape"
      ]
    },
    {
      "cell_type": "markdown",
      "metadata": {
        "id": "MgLqSmyIHV9J"
      },
      "source": [
        "* Total Rows-> 1205\n",
        "* Total Columns-> 14"
      ]
    },
    {
      "cell_type": "code",
      "execution_count": null,
      "metadata": {
        "id": "jLqfocOpHV9K",
        "outputId": "7392e458-edfb-413a-8495-5df0bf8fac59"
      },
      "outputs": [
        {
          "name": "stdout",
          "output_type": "stream",
          "text": [
            "<class 'pandas.core.frame.DataFrame'>\n",
            "RangeIndex: 1205 entries, 0 to 1204\n",
            "Data columns (total 14 columns):\n",
            " #   Column               Non-Null Count  Dtype \n",
            "---  ------               --------------  ----- \n",
            " 0   Gender               1205 non-null   object\n",
            " 1   Age                  1205 non-null   object\n",
            " 2   Education Level      1205 non-null   object\n",
            " 3   Institution Type     1205 non-null   object\n",
            " 4   IT Student           1205 non-null   object\n",
            " 5   Location             1205 non-null   object\n",
            " 6   Load-shedding        1205 non-null   object\n",
            " 7   Financial Condition  1205 non-null   object\n",
            " 8   Internet Type        1205 non-null   object\n",
            " 9   Network Type         1205 non-null   object\n",
            " 10  Class Duration       1205 non-null   object\n",
            " 11  Self Lms             1205 non-null   object\n",
            " 12  Device               1205 non-null   object\n",
            " 13  Adaptivity Level     1205 non-null   object\n",
            "dtypes: object(14)\n",
            "memory usage: 131.9+ KB\n"
          ]
        }
      ],
      "source": [
        "student_df.info()"
      ]
    },
    {
      "cell_type": "markdown",
      "metadata": {
        "id": "N0Idqq7NHV9K"
      },
      "source": [
        "Most columns have the data type object, either because they contain values of different types or contain empty values (NaN). It appears that every column contains some non-empty values since the Non-Null count for every column is same as the total number of rows(1205). We'll need to deal with empty values and manually adjust the data type for each column on a case-by-case basis."
      ]
    },
    {
      "cell_type": "code",
      "execution_count": null,
      "metadata": {
        "id": "meUFMHv3HV9L",
        "outputId": "5e0c566c-4ba5-4c08-8c0d-a2a410e085c4"
      },
      "outputs": [
        {
          "data": {
            "text/plain": [
              "Gender                 2\n",
              "Age                    6\n",
              "Education Level        3\n",
              "Institution Type       2\n",
              "IT Student             2\n",
              "Location               2\n",
              "Load-shedding          2\n",
              "Financial Condition    3\n",
              "Internet Type          2\n",
              "Network Type           3\n",
              "Class Duration         3\n",
              "Self Lms               2\n",
              "Device                 3\n",
              "Adaptivity Level       3\n",
              "dtype: int64"
            ]
          },
          "execution_count": 33,
          "metadata": {},
          "output_type": "execute_result"
        }
      ],
      "source": [
        "student_df.nunique()"
      ]
    },
    {
      "cell_type": "markdown",
      "metadata": {
        "id": "ARS2OUsyHV9L"
      },
      "source": [
        "Now, we see that there are spaces(' ') and hyphen('-') in column names and we remove them by replacing them with ('_') to access them easily while analyzing the data using column names."
      ]
    },
    {
      "cell_type": "code",
      "execution_count": null,
      "metadata": {
        "id": "AKUnk10SHV9M"
      },
      "outputs": [],
      "source": [
        "# remove spaces in columns name\n",
        "student_df.columns = student_df.columns.str.replace(' ','_')\n",
        "student_df.columns = student_df.columns.str.replace('-','_')"
      ]
    },
    {
      "cell_type": "code",
      "execution_count": null,
      "metadata": {
        "id": "wZ7O8vyLHV9M",
        "outputId": "e382b817-c00a-42cd-b79f-1c856ee5b043"
      },
      "outputs": [
        {
          "data": {
            "text/html": [
              "<div>\n",
              "<style scoped>\n",
              "    .dataframe tbody tr th:only-of-type {\n",
              "        vertical-align: middle;\n",
              "    }\n",
              "\n",
              "    .dataframe tbody tr th {\n",
              "        vertical-align: top;\n",
              "    }\n",
              "\n",
              "    .dataframe thead th {\n",
              "        text-align: right;\n",
              "    }\n",
              "</style>\n",
              "<table border=\"1\" class=\"dataframe\">\n",
              "  <thead>\n",
              "    <tr style=\"text-align: right;\">\n",
              "      <th></th>\n",
              "      <th>Gender</th>\n",
              "      <th>Age</th>\n",
              "      <th>Education_Level</th>\n",
              "      <th>Institution_Type</th>\n",
              "      <th>IT_Student</th>\n",
              "      <th>Location</th>\n",
              "      <th>Load_shedding</th>\n",
              "      <th>Financial_Condition</th>\n",
              "      <th>Internet_Type</th>\n",
              "      <th>Network_Type</th>\n",
              "      <th>Class_Duration</th>\n",
              "      <th>Self_Lms</th>\n",
              "      <th>Device</th>\n",
              "      <th>Adaptivity_Level</th>\n",
              "    </tr>\n",
              "  </thead>\n",
              "  <tbody>\n",
              "    <tr>\n",
              "      <th>0</th>\n",
              "      <td>Boy</td>\n",
              "      <td>21-25</td>\n",
              "      <td>University</td>\n",
              "      <td>Non Government</td>\n",
              "      <td>No</td>\n",
              "      <td>Yes</td>\n",
              "      <td>Low</td>\n",
              "      <td>Mid</td>\n",
              "      <td>Wifi</td>\n",
              "      <td>4G</td>\n",
              "      <td>3-6</td>\n",
              "      <td>No</td>\n",
              "      <td>Tab</td>\n",
              "      <td>Moderate</td>\n",
              "    </tr>\n",
              "    <tr>\n",
              "      <th>1</th>\n",
              "      <td>Girl</td>\n",
              "      <td>21-25</td>\n",
              "      <td>University</td>\n",
              "      <td>Non Government</td>\n",
              "      <td>No</td>\n",
              "      <td>Yes</td>\n",
              "      <td>High</td>\n",
              "      <td>Mid</td>\n",
              "      <td>Mobile Data</td>\n",
              "      <td>4G</td>\n",
              "      <td>1-3</td>\n",
              "      <td>Yes</td>\n",
              "      <td>Mobile</td>\n",
              "      <td>Moderate</td>\n",
              "    </tr>\n",
              "    <tr>\n",
              "      <th>2</th>\n",
              "      <td>Girl</td>\n",
              "      <td>16-20</td>\n",
              "      <td>College</td>\n",
              "      <td>Government</td>\n",
              "      <td>No</td>\n",
              "      <td>Yes</td>\n",
              "      <td>Low</td>\n",
              "      <td>Mid</td>\n",
              "      <td>Wifi</td>\n",
              "      <td>4G</td>\n",
              "      <td>1-3</td>\n",
              "      <td>No</td>\n",
              "      <td>Mobile</td>\n",
              "      <td>Moderate</td>\n",
              "    </tr>\n",
              "    <tr>\n",
              "      <th>3</th>\n",
              "      <td>Girl</td>\n",
              "      <td>11-15</td>\n",
              "      <td>School</td>\n",
              "      <td>Non Government</td>\n",
              "      <td>No</td>\n",
              "      <td>Yes</td>\n",
              "      <td>Low</td>\n",
              "      <td>Mid</td>\n",
              "      <td>Mobile Data</td>\n",
              "      <td>4G</td>\n",
              "      <td>1-3</td>\n",
              "      <td>No</td>\n",
              "      <td>Mobile</td>\n",
              "      <td>Moderate</td>\n",
              "    </tr>\n",
              "    <tr>\n",
              "      <th>4</th>\n",
              "      <td>Girl</td>\n",
              "      <td>16-20</td>\n",
              "      <td>School</td>\n",
              "      <td>Non Government</td>\n",
              "      <td>No</td>\n",
              "      <td>Yes</td>\n",
              "      <td>Low</td>\n",
              "      <td>Poor</td>\n",
              "      <td>Mobile Data</td>\n",
              "      <td>3G</td>\n",
              "      <td>0</td>\n",
              "      <td>No</td>\n",
              "      <td>Mobile</td>\n",
              "      <td>Low</td>\n",
              "    </tr>\n",
              "    <tr>\n",
              "      <th>...</th>\n",
              "      <td>...</td>\n",
              "      <td>...</td>\n",
              "      <td>...</td>\n",
              "      <td>...</td>\n",
              "      <td>...</td>\n",
              "      <td>...</td>\n",
              "      <td>...</td>\n",
              "      <td>...</td>\n",
              "      <td>...</td>\n",
              "      <td>...</td>\n",
              "      <td>...</td>\n",
              "      <td>...</td>\n",
              "      <td>...</td>\n",
              "      <td>...</td>\n",
              "    </tr>\n",
              "    <tr>\n",
              "      <th>1200</th>\n",
              "      <td>Girl</td>\n",
              "      <td>16-20</td>\n",
              "      <td>College</td>\n",
              "      <td>Non Government</td>\n",
              "      <td>No</td>\n",
              "      <td>Yes</td>\n",
              "      <td>Low</td>\n",
              "      <td>Mid</td>\n",
              "      <td>Wifi</td>\n",
              "      <td>4G</td>\n",
              "      <td>1-3</td>\n",
              "      <td>No</td>\n",
              "      <td>Mobile</td>\n",
              "      <td>Low</td>\n",
              "    </tr>\n",
              "    <tr>\n",
              "      <th>1201</th>\n",
              "      <td>Girl</td>\n",
              "      <td>16-20</td>\n",
              "      <td>College</td>\n",
              "      <td>Non Government</td>\n",
              "      <td>No</td>\n",
              "      <td>No</td>\n",
              "      <td>High</td>\n",
              "      <td>Mid</td>\n",
              "      <td>Wifi</td>\n",
              "      <td>4G</td>\n",
              "      <td>3-6</td>\n",
              "      <td>No</td>\n",
              "      <td>Mobile</td>\n",
              "      <td>Moderate</td>\n",
              "    </tr>\n",
              "    <tr>\n",
              "      <th>1202</th>\n",
              "      <td>Boy</td>\n",
              "      <td>11-15</td>\n",
              "      <td>School</td>\n",
              "      <td>Non Government</td>\n",
              "      <td>No</td>\n",
              "      <td>Yes</td>\n",
              "      <td>Low</td>\n",
              "      <td>Mid</td>\n",
              "      <td>Mobile Data</td>\n",
              "      <td>3G</td>\n",
              "      <td>1-3</td>\n",
              "      <td>No</td>\n",
              "      <td>Mobile</td>\n",
              "      <td>Moderate</td>\n",
              "    </tr>\n",
              "    <tr>\n",
              "      <th>1203</th>\n",
              "      <td>Girl</td>\n",
              "      <td>16-20</td>\n",
              "      <td>College</td>\n",
              "      <td>Non Government</td>\n",
              "      <td>No</td>\n",
              "      <td>No</td>\n",
              "      <td>Low</td>\n",
              "      <td>Mid</td>\n",
              "      <td>Wifi</td>\n",
              "      <td>4G</td>\n",
              "      <td>1-3</td>\n",
              "      <td>No</td>\n",
              "      <td>Mobile</td>\n",
              "      <td>Low</td>\n",
              "    </tr>\n",
              "    <tr>\n",
              "      <th>1204</th>\n",
              "      <td>Girl</td>\n",
              "      <td>11-15</td>\n",
              "      <td>School</td>\n",
              "      <td>Non Government</td>\n",
              "      <td>No</td>\n",
              "      <td>Yes</td>\n",
              "      <td>Low</td>\n",
              "      <td>Poor</td>\n",
              "      <td>Mobile Data</td>\n",
              "      <td>3G</td>\n",
              "      <td>1-3</td>\n",
              "      <td>No</td>\n",
              "      <td>Mobile</td>\n",
              "      <td>Moderate</td>\n",
              "    </tr>\n",
              "  </tbody>\n",
              "</table>\n",
              "<p>1205 rows × 14 columns</p>\n",
              "</div>"
            ],
            "text/plain": [
              "     Gender    Age Education_Level Institution_Type IT_Student Location  \\\n",
              "0       Boy  21-25      University   Non Government         No      Yes   \n",
              "1      Girl  21-25      University   Non Government         No      Yes   \n",
              "2      Girl  16-20         College       Government         No      Yes   \n",
              "3      Girl  11-15          School   Non Government         No      Yes   \n",
              "4      Girl  16-20          School   Non Government         No      Yes   \n",
              "...     ...    ...             ...              ...        ...      ...   \n",
              "1200   Girl  16-20         College   Non Government         No      Yes   \n",
              "1201   Girl  16-20         College   Non Government         No       No   \n",
              "1202    Boy  11-15          School   Non Government         No      Yes   \n",
              "1203   Girl  16-20         College   Non Government         No       No   \n",
              "1204   Girl  11-15          School   Non Government         No      Yes   \n",
              "\n",
              "     Load_shedding Financial_Condition Internet_Type Network_Type  \\\n",
              "0              Low                 Mid          Wifi           4G   \n",
              "1             High                 Mid   Mobile Data           4G   \n",
              "2              Low                 Mid          Wifi           4G   \n",
              "3              Low                 Mid   Mobile Data           4G   \n",
              "4              Low                Poor   Mobile Data           3G   \n",
              "...            ...                 ...           ...          ...   \n",
              "1200           Low                 Mid          Wifi           4G   \n",
              "1201          High                 Mid          Wifi           4G   \n",
              "1202           Low                 Mid   Mobile Data           3G   \n",
              "1203           Low                 Mid          Wifi           4G   \n",
              "1204           Low                Poor   Mobile Data           3G   \n",
              "\n",
              "     Class_Duration Self_Lms  Device Adaptivity_Level  \n",
              "0               3-6       No     Tab         Moderate  \n",
              "1               1-3      Yes  Mobile         Moderate  \n",
              "2               1-3       No  Mobile         Moderate  \n",
              "3               1-3       No  Mobile         Moderate  \n",
              "4                 0       No  Mobile              Low  \n",
              "...             ...      ...     ...              ...  \n",
              "1200            1-3       No  Mobile              Low  \n",
              "1201            3-6       No  Mobile         Moderate  \n",
              "1202            1-3       No  Mobile         Moderate  \n",
              "1203            1-3       No  Mobile              Low  \n",
              "1204            1-3       No  Mobile         Moderate  \n",
              "\n",
              "[1205 rows x 14 columns]"
            ]
          },
          "execution_count": 35,
          "metadata": {},
          "output_type": "execute_result"
        }
      ],
      "source": [
        "student_df"
      ]
    },
    {
      "cell_type": "markdown",
      "metadata": {
        "id": "jZW5989YHV9N"
      },
      "source": [
        "Now, column names are easily accessible."
      ]
    },
    {
      "cell_type": "code",
      "execution_count": null,
      "metadata": {
        "id": "mZvsXamxHV9N",
        "outputId": "ba0b8c48-8e50-4541-e65b-51dfc0856ce7"
      },
      "outputs": [
        {
          "data": {
            "text/html": [
              "<div>\n",
              "<style scoped>\n",
              "    .dataframe tbody tr th:only-of-type {\n",
              "        vertical-align: middle;\n",
              "    }\n",
              "\n",
              "    .dataframe tbody tr th {\n",
              "        vertical-align: top;\n",
              "    }\n",
              "\n",
              "    .dataframe thead th {\n",
              "        text-align: right;\n",
              "    }\n",
              "</style>\n",
              "<table border=\"1\" class=\"dataframe\">\n",
              "  <thead>\n",
              "    <tr style=\"text-align: right;\">\n",
              "      <th></th>\n",
              "      <th>Gender</th>\n",
              "      <th>Age</th>\n",
              "      <th>Education_Level</th>\n",
              "      <th>Institution_Type</th>\n",
              "      <th>IT_Student</th>\n",
              "      <th>Location</th>\n",
              "      <th>Load_shedding</th>\n",
              "      <th>Financial_Condition</th>\n",
              "      <th>Internet_Type</th>\n",
              "      <th>Network_Type</th>\n",
              "      <th>Class_Duration</th>\n",
              "      <th>Self_Lms</th>\n",
              "      <th>Device</th>\n",
              "      <th>Adaptivity_Level</th>\n",
              "    </tr>\n",
              "  </thead>\n",
              "  <tbody>\n",
              "    <tr>\n",
              "      <th>count</th>\n",
              "      <td>1205</td>\n",
              "      <td>1205</td>\n",
              "      <td>1205</td>\n",
              "      <td>1205</td>\n",
              "      <td>1205</td>\n",
              "      <td>1205</td>\n",
              "      <td>1205</td>\n",
              "      <td>1205</td>\n",
              "      <td>1205</td>\n",
              "      <td>1205</td>\n",
              "      <td>1205</td>\n",
              "      <td>1205</td>\n",
              "      <td>1205</td>\n",
              "      <td>1205</td>\n",
              "    </tr>\n",
              "    <tr>\n",
              "      <th>unique</th>\n",
              "      <td>2</td>\n",
              "      <td>6</td>\n",
              "      <td>3</td>\n",
              "      <td>2</td>\n",
              "      <td>2</td>\n",
              "      <td>2</td>\n",
              "      <td>2</td>\n",
              "      <td>3</td>\n",
              "      <td>2</td>\n",
              "      <td>3</td>\n",
              "      <td>3</td>\n",
              "      <td>2</td>\n",
              "      <td>3</td>\n",
              "      <td>3</td>\n",
              "    </tr>\n",
              "    <tr>\n",
              "      <th>top</th>\n",
              "      <td>Boy</td>\n",
              "      <td>21-25</td>\n",
              "      <td>School</td>\n",
              "      <td>Non Government</td>\n",
              "      <td>No</td>\n",
              "      <td>Yes</td>\n",
              "      <td>Low</td>\n",
              "      <td>Mid</td>\n",
              "      <td>Mobile Data</td>\n",
              "      <td>4G</td>\n",
              "      <td>1-3</td>\n",
              "      <td>No</td>\n",
              "      <td>Mobile</td>\n",
              "      <td>Moderate</td>\n",
              "    </tr>\n",
              "    <tr>\n",
              "      <th>freq</th>\n",
              "      <td>663</td>\n",
              "      <td>374</td>\n",
              "      <td>530</td>\n",
              "      <td>823</td>\n",
              "      <td>901</td>\n",
              "      <td>935</td>\n",
              "      <td>1004</td>\n",
              "      <td>878</td>\n",
              "      <td>695</td>\n",
              "      <td>775</td>\n",
              "      <td>840</td>\n",
              "      <td>995</td>\n",
              "      <td>1013</td>\n",
              "      <td>625</td>\n",
              "    </tr>\n",
              "  </tbody>\n",
              "</table>\n",
              "</div>"
            ],
            "text/plain": [
              "       Gender    Age Education_Level Institution_Type IT_Student Location  \\\n",
              "count    1205   1205            1205             1205       1205     1205   \n",
              "unique      2      6               3                2          2        2   \n",
              "top       Boy  21-25          School   Non Government         No      Yes   \n",
              "freq      663    374             530              823        901      935   \n",
              "\n",
              "       Load_shedding Financial_Condition Internet_Type Network_Type  \\\n",
              "count           1205                1205          1205         1205   \n",
              "unique             2                   3             2            3   \n",
              "top              Low                 Mid   Mobile Data           4G   \n",
              "freq            1004                 878           695          775   \n",
              "\n",
              "       Class_Duration Self_Lms  Device Adaptivity_Level  \n",
              "count            1205     1205    1205             1205  \n",
              "unique              3        2       3                3  \n",
              "top               1-3       No  Mobile         Moderate  \n",
              "freq              840      995    1013              625  "
            ]
          },
          "execution_count": 36,
          "metadata": {},
          "output_type": "execute_result"
        }
      ],
      "source": [
        "student_df.describe()"
      ]
    },
    {
      "cell_type": "code",
      "execution_count": null,
      "metadata": {
        "id": "C2eFDAVIHV9O",
        "outputId": "a48f97d8-e283-4665-a02c-db0aed935533"
      },
      "outputs": [
        {
          "data": {
            "text/plain": [
              "Boy     663\n",
              "Girl    542\n",
              "Name: Gender, dtype: int64"
            ]
          },
          "execution_count": 37,
          "metadata": {},
          "output_type": "execute_result"
        }
      ],
      "source": [
        "student_df['Gender'].value_counts()"
      ]
    },
    {
      "cell_type": "markdown",
      "metadata": {
        "id": "-7EsIQdMHV9O"
      },
      "source": [
        "#### Check for null values in data frame\n",
        "isna().any() function returns 'True', if there's any null (Nan) value in data frame and returns False if there's no null value."
      ]
    },
    {
      "cell_type": "code",
      "execution_count": null,
      "metadata": {
        "id": "s3geuIctHV9P",
        "outputId": "ec226bc5-695a-452a-c036-b109de8941c3"
      },
      "outputs": [
        {
          "data": {
            "text/plain": [
              "Gender                 False\n",
              "Age                    False\n",
              "Education_Level        False\n",
              "Institution_Type       False\n",
              "IT_Student             False\n",
              "Location               False\n",
              "Load_shedding          False\n",
              "Financial_Condition    False\n",
              "Internet_Type          False\n",
              "Network_Type           False\n",
              "Class_Duration         False\n",
              "Self_Lms               False\n",
              "Device                 False\n",
              "Adaptivity_Level       False\n",
              "dtype: bool"
            ]
          },
          "execution_count": 38,
          "metadata": {},
          "output_type": "execute_result"
        }
      ],
      "source": [
        "overall=student_df.isna().any()\n",
        "overall"
      ]
    },
    {
      "cell_type": "markdown",
      "metadata": {
        "id": "OAhkd-5dHV9Q"
      },
      "source": [
        "From the above result, it's clear that there's no null values present in our data frame. If there's limited number of columns, we can also check whether a column has null value or not using info() function."
      ]
    },
    {
      "cell_type": "code",
      "execution_count": null,
      "metadata": {
        "id": "nXhwGx-pHV9Q",
        "outputId": "b36ef9ef-7c96-4fd6-e8a7-b5d2351b232a"
      },
      "outputs": [
        {
          "name": "stdout",
          "output_type": "stream",
          "text": [
            "<class 'pandas.core.frame.DataFrame'>\n",
            "RangeIndex: 1205 entries, 0 to 1204\n",
            "Data columns (total 14 columns):\n",
            " #   Column               Non-Null Count  Dtype \n",
            "---  ------               --------------  ----- \n",
            " 0   Gender               1205 non-null   object\n",
            " 1   Age                  1205 non-null   object\n",
            " 2   Education_Level      1205 non-null   object\n",
            " 3   Institution_Type     1205 non-null   object\n",
            " 4   IT_Student           1205 non-null   object\n",
            " 5   Location             1205 non-null   object\n",
            " 6   Load_shedding        1205 non-null   object\n",
            " 7   Financial_Condition  1205 non-null   object\n",
            " 8   Internet_Type        1205 non-null   object\n",
            " 9   Network_Type         1205 non-null   object\n",
            " 10  Class_Duration       1205 non-null   object\n",
            " 11  Self_Lms             1205 non-null   object\n",
            " 12  Device               1205 non-null   object\n",
            " 13  Adaptivity_Level     1205 non-null   object\n",
            "dtypes: object(14)\n",
            "memory usage: 131.9+ KB\n"
          ]
        }
      ],
      "source": [
        "student_df.info()"
      ]
    },
    {
      "cell_type": "markdown",
      "metadata": {
        "id": "whb3qVrLHV9R"
      },
      "source": [
        "info() function in pandas module is used to view some basic information of a data frame. From the above output, we can clearly see that there are 1205 rows and 14 columns and there's no null value. Also we can see the data types of each column in the data frame."
      ]
    },
    {
      "cell_type": "code",
      "execution_count": null,
      "metadata": {
        "id": "W8FDTDEDHV9R",
        "outputId": "18f9ec2e-e6d8-4425-aa20-8ef8c2761706"
      },
      "outputs": [
        {
          "data": {
            "text/plain": [
              "array(['Mid', 'Poor', 'Rich'], dtype=object)"
            ]
          },
          "execution_count": 40,
          "metadata": {},
          "output_type": "execute_result"
        }
      ],
      "source": [
        "student_df.Financial_Condition.unique()"
      ]
    },
    {
      "cell_type": "code",
      "execution_count": null,
      "metadata": {
        "id": "1WB4J7n_HV9S",
        "outputId": "79f0854d-6cb8-4cb3-f6ae-65971781887d"
      },
      "outputs": [
        {
          "data": {
            "text/plain": [
              "array(['21-25', '16-20', '11-15', '26-30', '6-10', '1-5'], dtype=object)"
            ]
          },
          "execution_count": 41,
          "metadata": {},
          "output_type": "execute_result"
        }
      ],
      "source": [
        "student_df.Age.unique()"
      ]
    },
    {
      "cell_type": "code",
      "execution_count": null,
      "metadata": {
        "id": "jcKUM0WPHV9T",
        "outputId": "e081ecc2-8043-4601-e3ba-bef524df7cb6"
      },
      "outputs": [
        {
          "data": {
            "text/plain": [
              "array(['3-6', '1-3', '0'], dtype=object)"
            ]
          },
          "execution_count": 42,
          "metadata": {},
          "output_type": "execute_result"
        }
      ],
      "source": [
        "student_df.Class_Duration.unique()"
      ]
    },
    {
      "cell_type": "markdown",
      "metadata": {
        "id": "rvoDnuWFHV9U"
      },
      "source": [
        "We've now cleaned up and prepared the dataset for analysis. Let's take a look at a sample of rows from the data frame."
      ]
    },
    {
      "cell_type": "code",
      "execution_count": null,
      "metadata": {
        "id": "yzdpCL3AHV9U",
        "outputId": "2b444179-0fb2-4c09-feeb-3fd0aa84cac9"
      },
      "outputs": [
        {
          "data": {
            "text/html": [
              "<div>\n",
              "<style scoped>\n",
              "    .dataframe tbody tr th:only-of-type {\n",
              "        vertical-align: middle;\n",
              "    }\n",
              "\n",
              "    .dataframe tbody tr th {\n",
              "        vertical-align: top;\n",
              "    }\n",
              "\n",
              "    .dataframe thead th {\n",
              "        text-align: right;\n",
              "    }\n",
              "</style>\n",
              "<table border=\"1\" class=\"dataframe\">\n",
              "  <thead>\n",
              "    <tr style=\"text-align: right;\">\n",
              "      <th></th>\n",
              "      <th>Gender</th>\n",
              "      <th>Age</th>\n",
              "      <th>Education_Level</th>\n",
              "      <th>Institution_Type</th>\n",
              "      <th>IT_Student</th>\n",
              "      <th>Location</th>\n",
              "      <th>Load_shedding</th>\n",
              "      <th>Financial_Condition</th>\n",
              "      <th>Internet_Type</th>\n",
              "      <th>Network_Type</th>\n",
              "      <th>Class_Duration</th>\n",
              "      <th>Self_Lms</th>\n",
              "      <th>Device</th>\n",
              "      <th>Adaptivity_Level</th>\n",
              "    </tr>\n",
              "  </thead>\n",
              "  <tbody>\n",
              "    <tr>\n",
              "      <th>851</th>\n",
              "      <td>Girl</td>\n",
              "      <td>16-20</td>\n",
              "      <td>College</td>\n",
              "      <td>Government</td>\n",
              "      <td>No</td>\n",
              "      <td>No</td>\n",
              "      <td>High</td>\n",
              "      <td>Mid</td>\n",
              "      <td>Mobile Data</td>\n",
              "      <td>3G</td>\n",
              "      <td>1-3</td>\n",
              "      <td>No</td>\n",
              "      <td>Mobile</td>\n",
              "      <td>Low</td>\n",
              "    </tr>\n",
              "    <tr>\n",
              "      <th>897</th>\n",
              "      <td>Boy</td>\n",
              "      <td>16-20</td>\n",
              "      <td>School</td>\n",
              "      <td>Government</td>\n",
              "      <td>No</td>\n",
              "      <td>Yes</td>\n",
              "      <td>Low</td>\n",
              "      <td>Rich</td>\n",
              "      <td>Mobile Data</td>\n",
              "      <td>4G</td>\n",
              "      <td>1-3</td>\n",
              "      <td>No</td>\n",
              "      <td>Mobile</td>\n",
              "      <td>Moderate</td>\n",
              "    </tr>\n",
              "    <tr>\n",
              "      <th>331</th>\n",
              "      <td>Boy</td>\n",
              "      <td>21-25</td>\n",
              "      <td>University</td>\n",
              "      <td>Government</td>\n",
              "      <td>Yes</td>\n",
              "      <td>Yes</td>\n",
              "      <td>Low</td>\n",
              "      <td>Mid</td>\n",
              "      <td>Wifi</td>\n",
              "      <td>3G</td>\n",
              "      <td>1-3</td>\n",
              "      <td>No</td>\n",
              "      <td>Mobile</td>\n",
              "      <td>Low</td>\n",
              "    </tr>\n",
              "    <tr>\n",
              "      <th>758</th>\n",
              "      <td>Girl</td>\n",
              "      <td>1-5</td>\n",
              "      <td>School</td>\n",
              "      <td>Non Government</td>\n",
              "      <td>No</td>\n",
              "      <td>Yes</td>\n",
              "      <td>Low</td>\n",
              "      <td>Mid</td>\n",
              "      <td>Mobile Data</td>\n",
              "      <td>4G</td>\n",
              "      <td>1-3</td>\n",
              "      <td>No</td>\n",
              "      <td>Mobile</td>\n",
              "      <td>Moderate</td>\n",
              "    </tr>\n",
              "    <tr>\n",
              "      <th>663</th>\n",
              "      <td>Boy</td>\n",
              "      <td>11-15</td>\n",
              "      <td>School</td>\n",
              "      <td>Non Government</td>\n",
              "      <td>No</td>\n",
              "      <td>Yes</td>\n",
              "      <td>Low</td>\n",
              "      <td>Mid</td>\n",
              "      <td>Mobile Data</td>\n",
              "      <td>3G</td>\n",
              "      <td>1-3</td>\n",
              "      <td>No</td>\n",
              "      <td>Mobile</td>\n",
              "      <td>Moderate</td>\n",
              "    </tr>\n",
              "    <tr>\n",
              "      <th>1040</th>\n",
              "      <td>Boy</td>\n",
              "      <td>11-15</td>\n",
              "      <td>School</td>\n",
              "      <td>Non Government</td>\n",
              "      <td>No</td>\n",
              "      <td>Yes</td>\n",
              "      <td>High</td>\n",
              "      <td>Poor</td>\n",
              "      <td>Wifi</td>\n",
              "      <td>4G</td>\n",
              "      <td>0</td>\n",
              "      <td>No</td>\n",
              "      <td>Mobile</td>\n",
              "      <td>Low</td>\n",
              "    </tr>\n",
              "    <tr>\n",
              "      <th>1055</th>\n",
              "      <td>Girl</td>\n",
              "      <td>11-15</td>\n",
              "      <td>School</td>\n",
              "      <td>Government</td>\n",
              "      <td>No</td>\n",
              "      <td>No</td>\n",
              "      <td>Low</td>\n",
              "      <td>Mid</td>\n",
              "      <td>Mobile Data</td>\n",
              "      <td>3G</td>\n",
              "      <td>1-3</td>\n",
              "      <td>No</td>\n",
              "      <td>Mobile</td>\n",
              "      <td>Low</td>\n",
              "    </tr>\n",
              "    <tr>\n",
              "      <th>1143</th>\n",
              "      <td>Girl</td>\n",
              "      <td>16-20</td>\n",
              "      <td>College</td>\n",
              "      <td>Non Government</td>\n",
              "      <td>No</td>\n",
              "      <td>No</td>\n",
              "      <td>Low</td>\n",
              "      <td>Mid</td>\n",
              "      <td>Mobile Data</td>\n",
              "      <td>3G</td>\n",
              "      <td>3-6</td>\n",
              "      <td>Yes</td>\n",
              "      <td>Mobile</td>\n",
              "      <td>Low</td>\n",
              "    </tr>\n",
              "    <tr>\n",
              "      <th>1063</th>\n",
              "      <td>Girl</td>\n",
              "      <td>16-20</td>\n",
              "      <td>College</td>\n",
              "      <td>Non Government</td>\n",
              "      <td>No</td>\n",
              "      <td>Yes</td>\n",
              "      <td>Low</td>\n",
              "      <td>Mid</td>\n",
              "      <td>Wifi</td>\n",
              "      <td>4G</td>\n",
              "      <td>1-3</td>\n",
              "      <td>No</td>\n",
              "      <td>Computer</td>\n",
              "      <td>Moderate</td>\n",
              "    </tr>\n",
              "    <tr>\n",
              "      <th>1026</th>\n",
              "      <td>Boy</td>\n",
              "      <td>11-15</td>\n",
              "      <td>School</td>\n",
              "      <td>Non Government</td>\n",
              "      <td>No</td>\n",
              "      <td>Yes</td>\n",
              "      <td>High</td>\n",
              "      <td>Mid</td>\n",
              "      <td>Wifi</td>\n",
              "      <td>4G</td>\n",
              "      <td>1-3</td>\n",
              "      <td>No</td>\n",
              "      <td>Computer</td>\n",
              "      <td>Low</td>\n",
              "    </tr>\n",
              "  </tbody>\n",
              "</table>\n",
              "</div>"
            ],
            "text/plain": [
              "     Gender    Age Education_Level Institution_Type IT_Student Location  \\\n",
              "851    Girl  16-20         College       Government         No       No   \n",
              "897     Boy  16-20          School       Government         No      Yes   \n",
              "331     Boy  21-25      University       Government        Yes      Yes   \n",
              "758    Girl    1-5          School   Non Government         No      Yes   \n",
              "663     Boy  11-15          School   Non Government         No      Yes   \n",
              "1040    Boy  11-15          School   Non Government         No      Yes   \n",
              "1055   Girl  11-15          School       Government         No       No   \n",
              "1143   Girl  16-20         College   Non Government         No       No   \n",
              "1063   Girl  16-20         College   Non Government         No      Yes   \n",
              "1026    Boy  11-15          School   Non Government         No      Yes   \n",
              "\n",
              "     Load_shedding Financial_Condition Internet_Type Network_Type  \\\n",
              "851           High                 Mid   Mobile Data           3G   \n",
              "897            Low                Rich   Mobile Data           4G   \n",
              "331            Low                 Mid          Wifi           3G   \n",
              "758            Low                 Mid   Mobile Data           4G   \n",
              "663            Low                 Mid   Mobile Data           3G   \n",
              "1040          High                Poor          Wifi           4G   \n",
              "1055           Low                 Mid   Mobile Data           3G   \n",
              "1143           Low                 Mid   Mobile Data           3G   \n",
              "1063           Low                 Mid          Wifi           4G   \n",
              "1026          High                 Mid          Wifi           4G   \n",
              "\n",
              "     Class_Duration Self_Lms    Device Adaptivity_Level  \n",
              "851             1-3       No    Mobile              Low  \n",
              "897             1-3       No    Mobile         Moderate  \n",
              "331             1-3       No    Mobile              Low  \n",
              "758             1-3       No    Mobile         Moderate  \n",
              "663             1-3       No    Mobile         Moderate  \n",
              "1040              0       No    Mobile              Low  \n",
              "1055            1-3       No    Mobile              Low  \n",
              "1143            3-6      Yes    Mobile              Low  \n",
              "1063            1-3       No  Computer         Moderate  \n",
              "1026            1-3       No  Computer              Low  "
            ]
          },
          "execution_count": 43,
          "metadata": {},
          "output_type": "execute_result"
        }
      ],
      "source": [
        "student_df.sample(10)"
      ]
    },
    {
      "cell_type": "code",
      "execution_count": null,
      "metadata": {
        "id": "PT_BPHApHV9V"
      },
      "outputs": [],
      "source": [
        "import jovian"
      ]
    },
    {
      "cell_type": "code",
      "execution_count": null,
      "metadata": {
        "id": "Nsi7aobdHV9V",
        "outputId": "41cdb2c6-0f20-4a41-a337-0fb9021f5fcf"
      },
      "outputs": [
        {
          "data": {
            "application/javascript": [
              "window.require && require([\"base/js/namespace\"],function(Jupyter){Jupyter.notebook.save_checkpoint()})"
            ],
            "text/plain": [
              "<IPython.core.display.Javascript object>"
            ]
          },
          "metadata": {},
          "output_type": "display_data"
        },
        {
          "name": "stdout",
          "output_type": "stream",
          "text": [
            "[jovian] Updating notebook \"sareenjatin002/student-adaptability-online-education\" on https://jovian.ai\u001b[0m\n",
            "[jovian] Committed successfully! https://jovian.ai/sareenjatin002/student-adaptability-online-education\u001b[0m\n"
          ]
        },
        {
          "data": {
            "text/plain": [
              "'https://jovian.ai/sareenjatin002/student-adaptability-online-education'"
            ]
          },
          "execution_count": 45,
          "metadata": {},
          "output_type": "execute_result"
        }
      ],
      "source": [
        "jovian.commit()"
      ]
    },
    {
      "cell_type": "markdown",
      "metadata": {
        "id": "KswzmbyKHV9V"
      },
      "source": [
        "## Exploratory Analysis and Visualization\n",
        "\n",
        "Before we ask questions about the survey responses, it would help to understand the respondents' demographics, i.e., Age, Location, Financial Condition, Education level, Device, etc. It's essential to explore these variables to understand how representative the survey is of the worldwide student community. A survey of this scale generally tends to have some selection bias."
      ]
    },
    {
      "cell_type": "markdown",
      "metadata": {
        "id": "MfA5valnHV9W"
      },
      "source": [
        "Let's begin by importing`matplotlib.pyplot` and `seaborn`."
      ]
    },
    {
      "cell_type": "code",
      "execution_count": null,
      "metadata": {
        "id": "n_fknQ4-HV9W"
      },
      "outputs": [],
      "source": [
        "import seaborn as sns\n",
        "import matplotlib\n",
        "import matplotlib.pyplot as plt\n",
        "%matplotlib inline\n",
        "\n",
        "sns.set_style('darkgrid')\n",
        "matplotlib.rcParams['font.size'] = 14\n",
        "matplotlib.rcParams['figure.figsize'] = (9, 5)\n",
        "matplotlib.rcParams['figure.facecolor'] = '#00000000'"
      ]
    },
    {
      "cell_type": "markdown",
      "metadata": {
        "id": "rXOssflwHV9W"
      },
      "source": [
        "### INTERNET TYPE: WIFI OR MOBILE DATA\n",
        "It'd be interesting to see the comparison between the total number of wifi and mobile data users in this dataset just to get an idea of which one majority uses."
      ]
    },
    {
      "cell_type": "code",
      "execution_count": null,
      "metadata": {
        "id": "Gee_QUj8HV9X",
        "outputId": "e08bdcb2-137f-4480-f6fb-8ef660d15a90"
      },
      "outputs": [
        {
          "name": "stderr",
          "output_type": "stream",
          "text": [
            "/opt/conda/lib/python3.9/site-packages/seaborn/_decorators.py:36: FutureWarning: Pass the following variable as a keyword arg: x. From version 0.12, the only valid positional argument will be `data`, and passing other arguments without an explicit keyword will result in an error or misinterpretation.\n",
            "  warnings.warn(\n"
          ]
        },
        {
          "data": {
            "image/png": "[encoded data removed]",
            "text/plain": [
              "<Figure size 648x360 with 1 Axes>"
            ]
          },
          "metadata": {
            "needs_background": "light"
          },
          "output_type": "display_data"
        }
      ],
      "source": [
        "plt.figure(figsize=(9,5))\n",
        "g=sns.countplot(student_df.Internet_Type,palette=\"pastel\");\n",
        "plt.title(\"Comparison Between Wifi and Mobile Data users\")\n",
        "plt.xlabel('INTERNET TYPE')\n",
        "plt.ylabel('STUDENTS COUNT')\n",
        "plt.show();"
      ]
    },
    {
      "cell_type": "code",
      "execution_count": null,
      "metadata": {
        "id": "lNQ2dnxeHV9X",
        "outputId": "b7e97a83-2d7f-4f2c-af8c-a9c46ee65e6c"
      },
      "outputs": [
        {
          "data": {
            "image/png": "[encoded data removed]",
            "text/plain": [
              "<Figure size 864x432 with 1 Axes>"
            ]
          },
          "metadata": {},
          "output_type": "display_data"
        }
      ],
      "source": [
        "plt.figure(figsize=(12,6))\n",
        "plt.title(\"% Of Wifi and Mobile Data users\")\n",
        "g = plt.pie(student_df.Internet_Type.value_counts(), explode=(0.025,0.025), labels=student_df.Internet_Type.value_counts().index, colors=['skyblue','navajowhite'],autopct='%1.1f%%', startangle=180);\n",
        "plt.legend()\n",
        "plt.show();"
      ]
    },
    {
      "cell_type": "markdown",
      "metadata": {
        "id": "fSpPdxm0HV9X"
      },
      "source": [
        "So there are roughly 1205 students experiencing online education. Now, the online education need Internet connection which can be provided by WIFI or Mobile Data. Now, using bar chart and pie chart we can clearly see that there are more students who attend online eduction using mobile data rather than using WIFI. Data is 42.3% by WIFI and 57.7% by Mobile Data and difference is 15.4%."
      ]
    },
    {
      "cell_type": "markdown",
      "metadata": {
        "id": "ths6uLxXHV9Y"
      },
      "source": [
        "### TYPE OF DEVICE FOR ONLINE EDUCATION\n",
        "It'd be interesting to see the comparison between the total number of Mobile, Computer, and Tab device users in this dataset just to get an idea of which one majority uses for online eduction."
      ]
    },
    {
      "cell_type": "code",
      "execution_count": null,
      "metadata": {
        "id": "PNcf0NWFHV9Y",
        "outputId": "4cf2e0a8-31d4-4771-ad02-23b891fa602b"
      },
      "outputs": [
        {
          "data": {
            "image/png": "[encoded data removed]",
            "text/plain": [
              "<Figure size 864x432 with 1 Axes>"
            ]
          },
          "metadata": {},
          "output_type": "display_data"
        }
      ],
      "source": [
        "plt.figure(figsize=(12, 6))\n",
        "g = plt.pie(student_df.Device.value_counts(), explode=(0.025,0.025,0.025), labels=student_df.Device.value_counts().index, colors=['skyblue','navajowhite'],autopct='%1.1f%%', startangle=180);\n",
        "plt.title(\"% Of Students Using Different Devices\");"
      ]
    },
    {
      "cell_type": "code",
      "execution_count": null,
      "metadata": {
        "id": "eM10G7zRHV9Z",
        "outputId": "b9d45325-96f5-44f4-a7bb-0c24a2173d6d"
      },
      "outputs": [
        {
          "name": "stderr",
          "output_type": "stream",
          "text": [
            "/opt/conda/lib/python3.9/site-packages/seaborn/_decorators.py:36: FutureWarning: Pass the following variable as a keyword arg: x. From version 0.12, the only valid positional argument will be `data`, and passing other arguments without an explicit keyword will result in an error or misinterpretation.\n",
            "  warnings.warn(\n"
          ]
        },
        {
          "data": {
            "image/png": "[encoded data removed]",
            "text/plain": [
              "<Figure size 648x360 with 1 Axes>"
            ]
          },
          "metadata": {
            "needs_background": "light"
          },
          "output_type": "display_data"
        }
      ],
      "source": [
        "plt.figure(figsize=(9,5))\n",
        "g=sns.countplot(student_df.Device,palette=\"pastel\");\n",
        "plt.title(\"Comparison Between Different Devices Used By students\")\n",
        "plt.show();"
      ]
    },
    {
      "cell_type": "markdown",
      "metadata": {
        "id": "404Ry6c5HV9Z"
      },
      "source": [
        "So there are roughly 1205 students experiencing online education. Now, for online education, some Device for watching lectures is required which can be provided by Mobile or Computer or Tab. Now, using bar chart and pie chart we can clearly see that there are more students who attend online eduction using Mobile rather than using Computer and least used is Tab. Data shows 84.1% by Mobile and 13.4% by Computer and 2.5% by Tab.From this, we can conclude that either Mobile are affordable than Computer or students finds more comfortable to study on Mobile rather than Computer."
      ]
    },
    {
      "cell_type": "markdown",
      "metadata": {
        "id": "G2HIREgMHV9Z"
      },
      "source": [
        "### ADAPTIVITY LEVEL OF DIFFERENT STUDENTS\n",
        "It'd be interesting to see the comparison between the Adaptivity level of different students in this dataset just to get an idea of how much students are comfortable with online eduction at home."
      ]
    },
    {
      "cell_type": "code",
      "execution_count": null,
      "metadata": {
        "id": "OfRmIBrwHV9a",
        "outputId": "60c8e0ec-bf4a-4aeb-bd09-6f71fb2f5a77"
      },
      "outputs": [
        {
          "data": {
            "image/png": "[encoded data removed]",
            "text/plain": [
              "<Figure size 648x360 with 1 Axes>"
            ]
          },
          "metadata": {
            "needs_background": "light"
          },
          "output_type": "display_data"
        }
      ],
      "source": [
        "sns.countplot(y=student_df.Adaptivity_Level)\n",
        "plt.xticks(rotation=75);\n",
        "plt.title(\"Adaptivity Level Of different Students\")\n",
        "plt.ylabel(\"LEVEL\");"
      ]
    },
    {
      "cell_type": "code",
      "execution_count": null,
      "metadata": {
        "id": "r2bF3KTyHV9a",
        "outputId": "1c53ee08-e115-4665-a379-bdbefd7b3601"
      },
      "outputs": [
        {
          "data": {
            "image/png": "[encoded data removed]",
            "text/plain": [
              "<Figure size 864x432 with 1 Axes>"
            ]
          },
          "metadata": {},
          "output_type": "display_data"
        }
      ],
      "source": [
        "plt.figure(figsize=(12, 6))\n",
        "g = plt.pie(student_df.Adaptivity_Level.value_counts(), explode=(0.025,0.025,0.025), labels=student_df.Adaptivity_Level.value_counts().index, colors=['skyblue','navajowhite'],autopct='%1.1f%%', startangle=180);\n",
        "plt.title(\"% Of Adaptivity Level Of Different Students\");"
      ]
    },
    {
      "cell_type": "markdown",
      "metadata": {
        "id": "hz8J_4myHV9b"
      },
      "source": [
        "So there are roughly 1205 students experiencing online education. Adaptivity is another important feature in modern software systems, e.g., online education, mobile applications. Like dependability, adaptivity depends on the interactive environment of the system.Now, for different students adaptivity level of online education is different categorised into Low, Moderate, High Level. Now, using bar chart and pie chart we can clearly see that there are more students having Moderate adaptivity level of online education but also it is seen that a large number of students also have low adaptivity level of online education. Data shows 51.9% Moderate and 39.8% Low and 8.3% High adaptivity level. From this, we can conclude that most students are not finding comfortable in online education."
      ]
    },
    {
      "cell_type": "markdown",
      "metadata": {
        "id": "zHotrCn5HV9b"
      },
      "source": [
        "### FINANCIAL CONDITION OF STUDENTS\n",
        "It'd be interesting to see the comparison between the total number of Rich, Poor, and Mild wealth student users in this dataset just to get an idea of which are able to afford online eduction."
      ]
    },
    {
      "cell_type": "code",
      "execution_count": null,
      "metadata": {
        "id": "gxZ_EqrAHV9b",
        "outputId": "e94ad5c0-d8de-481e-859c-21299d456bb6"
      },
      "outputs": [
        {
          "name": "stderr",
          "output_type": "stream",
          "text": [
            "/opt/conda/lib/python3.9/site-packages/seaborn/_decorators.py:36: FutureWarning: Pass the following variable as a keyword arg: x. From version 0.12, the only valid positional argument will be `data`, and passing other arguments without an explicit keyword will result in an error or misinterpretation.\n",
            "  warnings.warn(\n"
          ]
        },
        {
          "data": {
            "image/png": "[encoded data removed]",
            "text/plain": [
              "<Figure size 648x360 with 1 Axes>"
            ]
          },
          "metadata": {
            "needs_background": "light"
          },
          "output_type": "display_data"
        }
      ],
      "source": [
        "plt.figure(figsize=(9,5))\n",
        "g=sns.countplot(student_df.Financial_Condition,palette=\"pastel\");\n",
        "plt.title(\"Financial Condition Comparision\")\n",
        "plt.xlabel('WEALTH')\n",
        "plt.ylabel('STUDENTS COUNT')\n",
        "plt.show();"
      ]
    },
    {
      "cell_type": "code",
      "execution_count": null,
      "metadata": {
        "id": "oT67l7DjHV9c",
        "outputId": "082172fe-5857-448c-c822-e2b5e1d8fab1"
      },
      "outputs": [
        {
          "data": {
            "image/png": "[encoded data removed]",
            "text/plain": [
              "<Figure size 864x432 with 1 Axes>"
            ]
          },
          "metadata": {},
          "output_type": "display_data"
        }
      ],
      "source": [
        "plt.figure(figsize=(12, 6))\n",
        "g = plt.pie(student_df.Financial_Condition.value_counts(), explode=(0.025,0.025,0.025), labels=student_df.Financial_Condition.value_counts().index, colors=['skyblue','navajowhite'],autopct='%1.1f%%', startangle=180);\n",
        "plt.title(\"% Of Students According To Their Wealth\");"
      ]
    },
    {
      "cell_type": "markdown",
      "metadata": {
        "id": "EGBrjB53HV9c"
      },
      "source": [
        "So there are roughly 1205 students experiencing online education. Now, for online education, some Device for watching lectures is required which can be provided by Mobile or Computer or Tab and these are not cheap to buy so here we compare Financial condition of different students. Now, using bar chart and pie chart we can clearly see that there are more students who have Mild Financial condition and a few have Poor financial condition. Data shows 72.9% students having Mild and 20.1% Poor and 7.1% Rich Financial condition.From this, we can conclude most students can have a mobile or a computer to attend online lectures."
      ]
    },
    {
      "cell_type": "markdown",
      "metadata": {
        "id": "5WE_n6J7HV9d"
      },
      "source": [
        "### NETWORK TYPES STUDENTS USES\n",
        "It'd be interesting to see the comparison between different network types i wealth student users in this dataset just to get an idea of which are able to afford online eduction."
      ]
    },
    {
      "cell_type": "code",
      "execution_count": null,
      "metadata": {
        "id": "JrAVmoRXHV9d",
        "outputId": "49cb9570-5eab-4865-e970-21a878c74a3f"
      },
      "outputs": [
        {
          "name": "stderr",
          "output_type": "stream",
          "text": [
            "/opt/conda/lib/python3.9/site-packages/seaborn/_decorators.py:36: FutureWarning: Pass the following variable as a keyword arg: x. From version 0.12, the only valid positional argument will be `data`, and passing other arguments without an explicit keyword will result in an error or misinterpretation.\n",
            "  warnings.warn(\n"
          ]
        },
        {
          "data": {
            "image/png": "[encoded data removed]",
            "text/plain": [
              "<Figure size 648x360 with 1 Axes>"
            ]
          },
          "metadata": {
            "needs_background": "light"
          },
          "output_type": "display_data"
        }
      ],
      "source": [
        "plt.figure(figsize=(9,5))\n",
        "g=sns.countplot(student_df.Network_Type,palette=\"pastel\");\n",
        "plt.title(\"Comparison Between 2G,3G,4G USERS\")\n",
        "plt.xlabel('NETWORK TYPE')\n",
        "plt.ylabel('STUDENTS COUNT')\n",
        "plt.show();"
      ]
    },
    {
      "cell_type": "code",
      "execution_count": null,
      "metadata": {
        "id": "TPhjeNOSHV9d",
        "outputId": "61c6eb31-2cb0-4ef7-f333-10c968b3eb8c"
      },
      "outputs": [
        {
          "data": {
            "image/png": "[encoded data removed]",
            "text/plain": [
              "<Figure size 864x432 with 1 Axes>"
            ]
          },
          "metadata": {},
          "output_type": "display_data"
        }
      ],
      "source": [
        "plt.figure(figsize=(12, 6))\n",
        "g = plt.pie(student_df.Network_Type.value_counts(), explode=(0.025,0.025,.025), labels=student_df.Network_Type.value_counts().index, colors=['skyblue','navajowhite'],autopct='%1.1f%%', startangle=180);\n",
        "plt.title(\"% Of Students Using Different Network Types\");"
      ]
    },
    {
      "cell_type": "markdown",
      "metadata": {
        "id": "F0eedO7aHV9e"
      },
      "source": [
        "So there are roughly 1205 students experiencing online education. Now, for online education, Internet connection is required which comes under 3 categories i.e. 2G,3G,4G. Now, using bar chart and pie chart we can clearly see that there are more students who attend online eduction using 4G Internet type rather than using 3G Internet type and least used is 2G. Data shows 64.3% 4G and 34.1% 3G and 1.6% 2G Network type is used by students.From this, we can conclude that most students are getting good type of network type to attend online education."
      ]
    },
    {
      "cell_type": "markdown",
      "metadata": {
        "id": "GmcwO3HtHV9e"
      },
      "source": [
        "Let us save and upload our work to Jovian before continuing"
      ]
    },
    {
      "cell_type": "code",
      "execution_count": null,
      "metadata": {
        "id": "YQtSkJylHV9e"
      },
      "outputs": [],
      "source": [
        "import jovian"
      ]
    },
    {
      "cell_type": "code",
      "execution_count": null,
      "metadata": {
        "id": "3swCq9WpHV9f",
        "outputId": "720b1781-1c63-492b-e27a-8ccd7a461acf"
      },
      "outputs": [
        {
          "data": {
            "application/javascript": [
              "window.require && require([\"base/js/namespace\"],function(Jupyter){Jupyter.notebook.save_checkpoint()})"
            ],
            "text/plain": [
              "<IPython.core.display.Javascript object>"
            ]
          },
          "metadata": {},
          "output_type": "display_data"
        },
        {
          "name": "stdout",
          "output_type": "stream",
          "text": [
            "[jovian] Updating notebook \"sareenjatin002/student-adaptability-online-education\" on https://jovian.ai\u001b[0m\n",
            "[jovian] Committed successfully! https://jovian.ai/sareenjatin002/student-adaptability-online-education\u001b[0m\n"
          ]
        },
        {
          "data": {
            "text/plain": [
              "'https://jovian.ai/sareenjatin002/student-adaptability-online-education'"
            ]
          },
          "execution_count": 58,
          "metadata": {},
          "output_type": "execute_result"
        }
      ],
      "source": [
        "jovian.commit()"
      ]
    },
    {
      "cell_type": "markdown",
      "metadata": {
        "id": "eVUJyIrlHV9f"
      },
      "source": [
        "## Asking and Answering Questions\n",
        "\n",
        "As part of this data analysis, it is very crucial to raise question and find answer to them. Here we will try to find out some of the most essential questions, that will help us in drawing a major conclusion from our dataset."
      ]
    },
    {
      "cell_type": "markdown",
      "metadata": {
        "id": "9dNDB5pYHV9f"
      },
      "source": [
        "### Q1: Does online education increased or decreased studies load on students?"
      ]
    },
    {
      "cell_type": "code",
      "execution_count": null,
      "metadata": {
        "id": "LQIVtxhoHV9g",
        "outputId": "d2fd1f97-8492-41f2-9f68-0a0e922c2322"
      },
      "outputs": [
        {
          "data": {
            "text/plain": [
              "Low     1004\n",
              "High     201\n",
              "Name: Load_shedding, dtype: int64"
            ]
          },
          "execution_count": 59,
          "metadata": {},
          "output_type": "execute_result"
        }
      ],
      "source": [
        "load=student_df.Load_shedding.value_counts()\n",
        "load"
      ]
    },
    {
      "cell_type": "code",
      "execution_count": null,
      "metadata": {
        "id": "cUVPg-xeHV9g",
        "outputId": "e24def9b-a184-4d40-ab8d-485b1bb43c91"
      },
      "outputs": [
        {
          "data": {
            "image/png": "[encoded data removed]",
            "text/plain": [
              "<Figure size 864x432 with 1 Axes>"
            ]
          },
          "metadata": {},
          "output_type": "display_data"
        }
      ],
      "source": [
        "plt.figure(figsize=(12, 6))\n",
        "g = plt.pie(student_df.Load_shedding.value_counts(), explode=(0.025,0.025), labels=student_df.Load_shedding.value_counts().index, colors=['skyblue','navajowhite'],autopct='%1.1f%%', startangle=180);\n",
        "plt.title(\"% Of Students On Basis Of Load Shedding\");"
      ]
    },
    {
      "cell_type": "markdown",
      "metadata": {
        "id": "DuPd6PepHV9h"
      },
      "source": [
        "From above it is evident that load of studies with online education has decreased significantly on many students. Data shows 83.3% students have low load and only 16.7% students have more load of studying with online education."
      ]
    },
    {
      "cell_type": "markdown",
      "metadata": {
        "id": "A_KY1hq2HV9h"
      },
      "source": [
        "### Q2: How many students are IT students i.e. having computer science as a subject?"
      ]
    },
    {
      "cell_type": "code",
      "execution_count": null,
      "metadata": {
        "id": "sJNmpMIFHV9h",
        "outputId": "a16f5ccb-d4e9-4f68-da9d-61720414f4e5"
      },
      "outputs": [
        {
          "data": {
            "text/plain": [
              "No     901\n",
              "Yes    304\n",
              "Name: IT_Student, dtype: int64"
            ]
          },
          "execution_count": 61,
          "metadata": {},
          "output_type": "execute_result"
        }
      ],
      "source": [
        "it=student_df.IT_Student.value_counts()\n",
        "it"
      ]
    },
    {
      "cell_type": "code",
      "execution_count": null,
      "metadata": {
        "id": "r69P_4PxHV9i",
        "outputId": "269e5b13-e883-4c2e-ad4c-b5529ba332b4"
      },
      "outputs": [
        {
          "name": "stderr",
          "output_type": "stream",
          "text": [
            "/opt/conda/lib/python3.9/site-packages/seaborn/_decorators.py:36: FutureWarning: Pass the following variable as a keyword arg: x. From version 0.12, the only valid positional argument will be `data`, and passing other arguments without an explicit keyword will result in an error or misinterpretation.\n",
            "  warnings.warn(\n"
          ]
        },
        {
          "data": {
            "image/png": "[encoded data removed]",
            "text/plain": [
              "<Figure size 648x360 with 1 Axes>"
            ]
          },
          "metadata": {
            "needs_background": "light"
          },
          "output_type": "display_data"
        }
      ],
      "source": [
        "plt.figure(figsize=(9,5))\n",
        "g=sns.countplot(student_df.IT_Student,palette=\"pastel\");\n",
        "plt.title(\"Comparison Between Number of IT and NON-IT Students\")\n",
        "plt.xlabel('IT STUDENTS')\n",
        "plt.ylabel('STUDENTS COUNT')\n",
        "plt.show();"
      ]
    },
    {
      "cell_type": "markdown",
      "metadata": {
        "id": "fJcANGBUHV9i"
      },
      "source": [
        "From above it is evident that Non-IT students are more but they are able to attend online lectures inspite of having no or less computer experience showing that attending online lectures is very easy requiring little computer knowledge. Data shows 901 NON-IT students and only 304 IT students, all can access online education."
      ]
    },
    {
      "cell_type": "markdown",
      "metadata": {
        "id": "LhJp62g6HV9i"
      },
      "source": [
        "### Q3: How much is the class duration during online lectures?"
      ]
    },
    {
      "cell_type": "code",
      "execution_count": null,
      "metadata": {
        "id": "YYbGmXaBHV9j",
        "outputId": "c2d0b540-2ea4-4dd4-861d-039774b965a2"
      },
      "outputs": [
        {
          "data": {
            "text/plain": [
              "1-3    840\n",
              "3-6    211\n",
              "0      154\n",
              "Name: Class_Duration, dtype: int64"
            ]
          },
          "execution_count": 63,
          "metadata": {},
          "output_type": "execute_result"
        }
      ],
      "source": [
        "duration=student_df.Class_Duration.value_counts()\n",
        "duration"
      ]
    },
    {
      "cell_type": "code",
      "execution_count": null,
      "metadata": {
        "id": "wl3O17iEHV9j",
        "outputId": "c6ced0c6-89ad-493e-869e-c00488455c4e"
      },
      "outputs": [
        {
          "data": {
            "image/png": "[encoded data removed]",
            "text/plain": [
              "<Figure size 864x432 with 1 Axes>"
            ]
          },
          "metadata": {},
          "output_type": "display_data"
        }
      ],
      "source": [
        "plt.figure(figsize=(12, 6))\n",
        "g = plt.pie(student_df.Class_Duration.value_counts(), explode=(0.025,0.025,.025), labels=student_df.Class_Duration.value_counts().index, colors=['skyblue','navajowhite'],autopct='%1.1f%%', startangle=180);\n",
        "plt.title(\"% Of Students Having Different Class Durations\");"
      ]
    },
    {
      "cell_type": "markdown",
      "metadata": {
        "id": "DjQuf7L7HV9j"
      },
      "source": [
        "From above it is evident that most students are having 1-3 hours of class duration which is a good sign of less load of studies on students and less screen time of students helps students to be more focused during the class and also it reduces strain on eyes. Data shows 840(69.7%) students have 1-3 hours and 211(17.5%) students have 3-6 hours of class duration and 154(12.8%) are not attending online lectures inspite of having internet connection and a device."
      ]
    },
    {
      "cell_type": "markdown",
      "metadata": {
        "id": "NI0j2KDSHV9k"
      },
      "source": [
        "### Q4: Find total number of government and non-government institute students?"
      ]
    },
    {
      "cell_type": "code",
      "execution_count": null,
      "metadata": {
        "id": "I0oVecBDHV9k",
        "outputId": "1e25f5b9-c0f1-40ca-921c-de0e19bf6531"
      },
      "outputs": [
        {
          "data": {
            "text/plain": [
              "Non Government    823\n",
              "Government        382\n",
              "Name: Institution_Type, dtype: int64"
            ]
          },
          "execution_count": 65,
          "metadata": {},
          "output_type": "execute_result"
        }
      ],
      "source": [
        "institute=student_df.Institution_Type.value_counts()\n",
        "institute"
      ]
    },
    {
      "cell_type": "code",
      "execution_count": null,
      "metadata": {
        "id": "3S9GxxUOHV9k",
        "outputId": "05c84cc2-a1d7-4818-cefe-500d82b470c9"
      },
      "outputs": [
        {
          "name": "stderr",
          "output_type": "stream",
          "text": [
            "/opt/conda/lib/python3.9/site-packages/seaborn/_decorators.py:36: FutureWarning: Pass the following variable as a keyword arg: x. From version 0.12, the only valid positional argument will be `data`, and passing other arguments without an explicit keyword will result in an error or misinterpretation.\n",
            "  warnings.warn(\n"
          ]
        },
        {
          "data": {
            "image/png": "[encoded data removed]",
            "text/plain": [
              "<Figure size 648x360 with 1 Axes>"
            ]
          },
          "metadata": {
            "needs_background": "light"
          },
          "output_type": "display_data"
        }
      ],
      "source": [
        "plt.figure(figsize=(9,5))\n",
        "g=sns.countplot(student_df.Institution_Type,palette=\"pastel\");\n",
        "plt.title(\"Comparison Between Number of Govenment and NON-Government Students\")\n",
        "plt.xlabel('INSTITUTE TYPE')\n",
        "plt.ylabel('STUDENTS COUNT')\n",
        "plt.show();"
      ]
    },
    {
      "cell_type": "markdown",
      "metadata": {
        "id": "LVN1E_t3HV9l"
      },
      "source": [
        "From above it is evident that number of Non-Government students are more than Government students and both type of institute students can attend online lectures. Data shows 823 NON-Government students and only 382 Government students, all can access online education."
      ]
    },
    {
      "cell_type": "markdown",
      "metadata": {
        "id": "ckKrVb_-HV9l"
      },
      "source": [
        "### Q5: What are the total number of  students of different age groups attending online classes?"
      ]
    },
    {
      "cell_type": "code",
      "execution_count": null,
      "metadata": {
        "id": "5OpMszq5HV9l",
        "outputId": "4ccd3661-9d81-485b-c038-7ded17197979"
      },
      "outputs": [
        {
          "data": {
            "text/plain": [
              "21-25    374\n",
              "11-15    353\n",
              "16-20    278\n",
              "1-5       81\n",
              "26-30     68\n",
              "6-10      51\n",
              "Name: Age, dtype: int64"
            ]
          },
          "execution_count": 67,
          "metadata": {},
          "output_type": "execute_result"
        }
      ],
      "source": [
        "age=student_df.Age.value_counts()\n",
        "age"
      ]
    },
    {
      "cell_type": "code",
      "execution_count": null,
      "metadata": {
        "id": "yXp_oOhPHV9m",
        "outputId": "617b57a2-e348-4499-b43b-7e8d25105c00"
      },
      "outputs": [
        {
          "data": {
            "image/png": "[encoded data removed]",
            "text/plain": [
              "<Figure size 864x432 with 1 Axes>"
            ]
          },
          "metadata": {},
          "output_type": "display_data"
        }
      ],
      "source": [
        "plt.figure(figsize=(12, 6))\n",
        "g = plt.pie(student_df.Age.value_counts(), explode=(0.025,0.025,.025,.025,.025,.025), labels=student_df.Age.value_counts().index, colors=['skyblue','navajowhite'],autopct='%1.1f%%', startangle=180);\n",
        "plt.title(\"% Of Students Having Different Class Durations\");"
      ]
    },
    {
      "cell_type": "markdown",
      "metadata": {
        "id": "aSUqUx_sHV9m"
      },
      "source": [
        "From above it is evident that number of students in age group of 21-25 and 11-15 is more than any other age groups attending online lectures. It is also evident that student's age between 11-25 had to study more or level of study is hard in India and graduation is also completed upto age 25 and after that most students find a job. Data is 374 students in age group 21-25 and 353 students in age group 11-15 and 278 students in age group 16-20 and 81 students in age group 1-5 and 68 students in age group 26-30 and 51 students in age group 6-10."
      ]
    },
    {
      "cell_type": "markdown",
      "metadata": {
        "id": "eFvUk_BDHV9m"
      },
      "source": [
        "Let us save and upload our work to Jovian before continuing."
      ]
    },
    {
      "cell_type": "code",
      "execution_count": null,
      "metadata": {
        "id": "B8-utTbiHV9n"
      },
      "outputs": [],
      "source": [
        "import jovian"
      ]
    },
    {
      "cell_type": "code",
      "execution_count": null,
      "metadata": {
        "id": "WLaYuq1RHV9n",
        "outputId": "ad275534-0d6d-454c-acaa-a27db7c05849"
      },
      "outputs": [
        {
          "data": {
            "application/javascript": [
              "window.require && require([\"base/js/namespace\"],function(Jupyter){Jupyter.notebook.save_checkpoint()})"
            ],
            "text/plain": [
              "<IPython.core.display.Javascript object>"
            ]
          },
          "metadata": {},
          "output_type": "display_data"
        },
        {
          "name": "stdout",
          "output_type": "stream",
          "text": [
            "[jovian] Updating notebook \"sareenjatin002/student-adaptability-online-education\" on https://jovian.ai\u001b[0m\n",
            "[jovian] Committed successfully! https://jovian.ai/sareenjatin002/student-adaptability-online-education\u001b[0m\n"
          ]
        },
        {
          "data": {
            "text/plain": [
              "'https://jovian.ai/sareenjatin002/student-adaptability-online-education'"
            ]
          },
          "execution_count": 70,
          "metadata": {},
          "output_type": "execute_result"
        }
      ],
      "source": [
        "jovian.commit()"
      ]
    },
    {
      "cell_type": "markdown",
      "metadata": {
        "id": "FHLEt8RmHV9n"
      },
      "source": [
        "## Inferences and Conclusion\n",
        "\n",
        "We've drawn many inferences from the survey. Here's a summary of a few of them:\n",
        "* Based on the student responds there are more students who attend online eduction using mobile data rather than using WIFI. Data shows 42.3% students use WIFI and 57.7% students use Mobile Data.\n",
        "\n",
        "* Based on the student responds there are more students who attend online eduction using Mobile rather than using Computer and least used is Tab. Data shows 84.1% by Mobile.From this, we can conclude that either Mobile are affordable than Computer or students finds more comfortable to study on Mobile rather than Computer.\n",
        "\n",
        "* Based on the student responds there are more students having Moderate adaptivity level of online education but also it is seen that a large number of students also have low adaptivity level of online education. Data shows 51.9% Moderate and 39.8% Low. From this, we can conclude that most students are not finding comfortable in online education.\n",
        "* Based on the student responds that there are more students who attend online eduction using 4G Internet type rather than using 3G Internet type and least used is 2G. Data shows 64.3% 4G and 34.1% 3G is used by students.From this, we can conclude that most students are getting good type of network type to attend online education.\n",
        "* Based on the student responds load of studies with online education has decreased significantly on many students. Data shows 83.3% students have low load and only 16.7% students have more load of studying with online education.\n",
        "* Based on the student responds Non-IT students are more but they are able to attend online lectures inspite of having no or less computer experience showing that attending online lectures is very easy requiring little computer knowledge. Data shows 901 NON-IT students and only 304 IT students, all can access online education.\n",
        "* Based on the student respondsBased on the student responds  that number of Non-Government students are more than Government students and both type of institute students can attend online lectures. Data shows 823 NON-Government students and only 382 Government students, all can access online education.\n",
        "* Based on the student responds that number of students in age group of 21-25 and 11-15 is more than any other age groups attending online lectures. It is also evident that student's age between 11-25 had to study more or level of study is hard in India and graduation is also completed upto age 25 and after that most students find a job. Data is 374 students in age group 21-25 and 353 students in age group 11-15 and 278 students in age group 16-20 and 81 students in age group 1-5 and 68 students in age group 26-30 and 51 students in age group 6-10.\n",
        "* So, we can conclude that online education is easy to access and in less cost you can get quality education at home at your comfort and it requires less or little knowledge of using computer, mobile and internet and everyone can access online lectures easily."
      ]
    },
    {
      "cell_type": "code",
      "execution_count": null,
      "metadata": {
        "id": "uarwMJUNHV9o"
      },
      "outputs": [],
      "source": [
        "import jovian"
      ]
    },
    {
      "cell_type": "code",
      "execution_count": null,
      "metadata": {
        "id": "J8g7nuFvHV9o",
        "outputId": "8eb1aaa7-ecd4-4a5f-da7e-00026949de02"
      },
      "outputs": [
        {
          "data": {
            "application/javascript": [
              "window.require && require([\"base/js/namespace\"],function(Jupyter){Jupyter.notebook.save_checkpoint()})"
            ],
            "text/plain": [
              "<IPython.core.display.Javascript object>"
            ]
          },
          "metadata": {},
          "output_type": "display_data"
        },
        {
          "name": "stdout",
          "output_type": "stream",
          "text": [
            "[jovian] Updating notebook \"sareenjatin002/student-adaptability-online-education\" on https://jovian.ai\u001b[0m\n",
            "[jovian] Committed successfully! https://jovian.ai/sareenjatin002/student-adaptability-online-education\u001b[0m\n"
          ]
        },
        {
          "data": {
            "text/plain": [
              "'https://jovian.ai/sareenjatin002/student-adaptability-online-education'"
            ]
          },
          "execution_count": 72,
          "metadata": {},
          "output_type": "execute_result"
        }
      ],
      "source": [
        "jovian.commit()"
      ]
    },
    {
      "cell_type": "markdown",
      "metadata": {
        "id": "BLqo-RwwHV9o"
      },
      "source": [
        "## References\n",
        "\n",
        "Check out the following resources to learn more about the dataset and tools used in this notebook:\n",
        "* Adaptivity Level of online education survey dataset: https://www.kaggle.com/datasets/mdmahmudulhasansuzan/students-adaptability-level-in-online-education.\n",
        "* Pandas user guide: https://pandas.pydata.org/docs/user_guide/index.html\n",
        "* Matplotlib user guide: https://matplotlib.org/3.3.1/users/index.html\n",
        "* Seaborn user guide & tutorial: https://seaborn.pydata.org/tutorial.html\n",
        "* opendatasets Python library: https://github.com/JovianML/opendatasets\n",
        "\n",
        "As a next step, you can try out a project on another dataset of your choice: https://jovian.ml/aakashns/zerotopandas-course-project-starter ."
      ]
    },
    {
      "cell_type": "markdown",
      "metadata": {
        "id": "ouEwWORKHV9p"
      },
      "source": [
        "# Future Work\n",
        "\n",
        "There's a wealth of information to be discovered using the survey, and we've barely scratched the surface. Here are some ideas for further exploration:\n",
        "* Repeat the analysis for different age groups & genders, and compare the results.\n",
        "* Pick a different set of columns to analyze other facets of the data.\n",
        "* Prepare an analysis focusing on diversity and identify areas where underrepresented communities are at par with the majority (e.g., education) and where they aren't (e.g., salaries).\n",
        "* Compare the results of this year's survey with the previous years and identify interesting trends."
      ]
    },
    {
      "cell_type": "code",
      "execution_count": null,
      "metadata": {
        "id": "3bsNgJ2XHV9p"
      },
      "outputs": [],
      "source": [
        "import jovian"
      ]
    },
    {
      "cell_type": "code",
      "execution_count": null,
      "metadata": {
        "scrolled": true,
        "id": "ZxiIFWNEHV9q",
        "outputId": "ed7004c6-98ad-4d63-b73d-fa3abf14d2c5"
      },
      "outputs": [
        {
          "data": {
            "application/javascript": [
              "window.require && require([\"base/js/namespace\"],function(Jupyter){Jupyter.notebook.save_checkpoint()})"
            ],
            "text/plain": [
              "<IPython.core.display.Javascript object>"
            ]
          },
          "metadata": {},
          "output_type": "display_data"
        },
        {
          "name": "stdout",
          "output_type": "stream",
          "text": [
            "[jovian] Updating notebook \"sareenjatin002/student-adaptability-online-education\" on https://jovian.ai\u001b[0m\n",
            "[jovian] Committed successfully! https://jovian.ai/sareenjatin002/student-adaptability-online-education\u001b[0m\n"
          ]
        },
        {
          "data": {
            "text/plain": [
              "'https://jovian.ai/sareenjatin002/student-adaptability-online-education'"
            ]
          },
          "execution_count": 74,
          "metadata": {},
          "output_type": "execute_result"
        }
      ],
      "source": [
        "jovian.commit()"
      ]
    }
  ],
  "metadata": {
    "kernelspec": {
      "display_name": "Python 3 (ipykernel)",
      "language": "python",
      "name": "python3"
    },
    "language_info": {
      "codemirror_mode": {
        "name": "ipython",
        "version": 3
      },
      "file_extension": ".py",
      "mimetype": "text/x-python",
      "name": "python",
      "nbconvert_exporter": "python",
      "pygments_lexer": "ipython3",
      "version": "3.9.6"
    },
    "colab": {
      "provenance": []
    }
  },
  "nbformat": 4,
  "nbformat_minor": 0
}